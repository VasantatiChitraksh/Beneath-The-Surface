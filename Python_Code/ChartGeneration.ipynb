{
  "cells": [
    {
      "cell_type": "code",
      "execution_count": 1,
      "metadata": {
        "id": "BbVXnCwBqYL5"
      },
      "outputs": [],
      "source": [
        "import pandas as pd"
      ]
    },
    {
      "cell_type": "code",
      "execution_count": 2,
      "metadata": {
        "colab": {
          "base_uri": "https://localhost:8080/"
        },
        "id": "OkbtOJIN0ERW",
        "outputId": "b5b21bb7-daa5-4d40-d47a-e37b24770525"
      },
      "outputs": [
        {
          "name": "stdout",
          "output_type": "stream",
          "text": [
            "Index(['Which hostel are you staying in?',\n",
            "       'How long have you been staying in the campus?(No. of Months)',\n",
            "       'Rate the quality of drinking water in the campus',\n",
            "       'Rate the quality of tap water in the campus'],\n",
            "      dtype='object')\n"
          ]
        }
      ],
      "source": [
        "data = pd.read_csv('../Docs/Survey_Responses.csv')\n",
        "print(data.columns)"
      ]
    },
    {
      "cell_type": "code",
      "execution_count": 3,
      "metadata": {
        "colab": {
          "base_uri": "https://localhost:8080/"
        },
        "id": "uWwJWaU-0O_u",
        "outputId": "e472137a-b40f-41c7-daff-fe1641bd2006"
      },
      "outputs": [
        {
          "name": "stdout",
          "output_type": "stream",
          "text": [
            "Index(['Hostels', 'Months', 'D-Rating', 'T-Rating'], dtype='object')\n"
          ]
        }
      ],
      "source": [
        "data.columns = ['Hostels','Months','D-Rating','T-Rating']\n",
        "print(data.columns)"
      ]
    },
    {
      "cell_type": "code",
      "execution_count": 4,
      "metadata": {
        "id": "H3ROGRi00x9Q"
      },
      "outputs": [],
      "source": [
        "hostels = data['Hostels'].unique()"
      ]
    },
    {
      "cell_type": "code",
      "execution_count": 5,
      "metadata": {
        "colab": {
          "base_uri": "https://localhost:8080/"
        },
        "id": "zXCDyIb_05c9",
        "outputId": "e9c1317c-4ab0-445f-be70-00ee10ce34b3"
      },
      "outputs": [
        {
          "name": "stdout",
          "output_type": "stream",
          "text": [
            "Kedhar\n",
            "Bhairav\n",
            "Sahana\n",
            "basant\n",
            "Des\n",
            "Malhar\n",
            "Abheri\n",
            "Faculty\n"
          ]
        }
      ],
      "source": [
        "for hostel in hostels:\n",
        "    print(hostel)"
      ]
    },
    {
      "cell_type": "code",
      "execution_count": 6,
      "metadata": {
        "colab": {
          "base_uri": "https://localhost:8080/"
        },
        "id": "kakSV1A21BPk",
        "outputId": "c46bb909-287b-42f9-8864-d5502e32888c"
      },
      "outputs": [
        {
          "data": {
            "text/plain": [
              "[   Hostels  Months  D-Rating  T-Rating\n",
              " 0   Kedhar       6         2         2\n",
              " 1   Kedhar       7         3         5\n",
              " 2   Kedhar       7         3         3\n",
              " 3   Kedhar       6         4         4\n",
              " 4   Kedhar      19         3         4\n",
              " 5   Kedhar      24         1         2\n",
              " 6   Kedhar      14         2         4\n",
              " 7   Kedhar       6         2         4\n",
              " 8   Kedhar       6         4         4\n",
              " 9   Kedhar       6         2         3\n",
              " 10  Kedhar       5         3         3\n",
              " 11  Kedhar       6         4         4\n",
              " 12  Kedhar      15         2         2\n",
              " 13  Kedhar      18         4         5\n",
              " 14  Kedhar      24         2         2\n",
              " 15  Kedhar      24         2         2\n",
              " 16  Kedhar      24         2         2\n",
              " 17  Kedhar      24         2         2\n",
              " 18  Kedhar      24         2         2\n",
              " 19  Kedhar      24         2         3\n",
              " 20  Kedhar      24         3         3\n",
              " 21  Kedhar      24         2         2\n",
              " 22  Kedhar      24         2         3\n",
              " 23  Kedhar      24         2         2\n",
              " 24  Kedhar      24         2         2\n",
              " 25  Kedhar      24         2         2\n",
              " 26  Kedhar      24         2         2\n",
              " 27  Kedhar      24         2         2\n",
              " 28  Kedhar      24         1         1\n",
              " 29  Kedhar      24         1         1\n",
              " 30  Kedhar      14         3         4\n",
              " 31  Kedhar      17         3         2\n",
              " 32  Kedhar       6         2         3\n",
              " 33  Kedhar      14         3         2,\n",
              "     Hostels  Months  D-Rating  T-Rating\n",
              " 34  Bhairav       6         2         3\n",
              " 35  Bhairav       7         3         4\n",
              " 36  Bhairav       7         2         1\n",
              " 37  Bhairav       8         2         2\n",
              " 38  Bhairav       6         2         3\n",
              " 39  Bhairav       6         2         4\n",
              " 40  Bhairav       7         3         2\n",
              " 41  Bhairav       8         2         3\n",
              " 42  Bhairav       6         3         4\n",
              " 43  Bhairav       7         2         3\n",
              " 44  Bhairav       8         3         4\n",
              " 45  Bhairav       6         2         2\n",
              " 46  Bhairav       7         3         1\n",
              " 47  Bhairav       6         2         4\n",
              " 48  Bhairav       8         2         3\n",
              " 49  Bhairav       7         3         4\n",
              " 50  Bhairav       6         3         2\n",
              " 51  Bhairav       8         2         1\n",
              " 52  Bhairav       7         2         3\n",
              " 53  Bhairav       6         2         4\n",
              " 54  Bhairav       8         3         2\n",
              " 55  Bhairav       7         2         4\n",
              " 56  Bhairav       6         3         3\n",
              " 57  Bhairav       8         2         2\n",
              " 58  Bhairav       7         3         3\n",
              " 59  Bhairav       6         2         1\n",
              " 60  Bhairav       8         3         4\n",
              " 61  Bhairav       7         2         2\n",
              " 62  Bhairav       6         3         4\n",
              " 63  Bhairav       8         2         3\n",
              " 64  Bhairav       7         3         1,\n",
              "    Hostels  Months  D-Rating  T-Rating\n",
              " 65  Sahana      24         2         2\n",
              " 66  Sahana      18         3         4\n",
              " 67  Sahana      18         2         4\n",
              " 68  Sahana      18         2         3\n",
              " 69  Sahana      24         2         3\n",
              " 70  Sahana      20         3         3\n",
              " 71  Sahana      23         4         2\n",
              " 72  Sahana      22         3         2\n",
              " 73  Sahana      18         4         4\n",
              " 74  Sahana      22         4         2\n",
              " 75  Sahana      18         4         3\n",
              " 76  Sahana      16         3         4,\n",
              "    Hostels  Months  D-Rating  T-Rating\n",
              " 77  basant      24         3         5\n",
              " 78  basant      18         2         3\n",
              " 79  basant      18         2         4\n",
              " 80  basant      18         3         1\n",
              " 81  basant      24         2         3\n",
              " 82  basant      20         4         2\n",
              " 83  basant      23         4         2\n",
              " 84  basant      22         3         2\n",
              " 85  basant      18         4         3\n",
              " 86  basant      22         4         2\n",
              " 87  basant      18         2         4\n",
              " 88  basant      16         3         4,\n",
              "     Hostels  Months  D-Rating  T-Rating\n",
              " 89      Des      30         2         1\n",
              " 90      Des       2         2         2\n",
              " 91      Des      20         3         4\n",
              " 92      Des      22         5         5\n",
              " 93      Des      23         5         5\n",
              " 94      Des      27         3         5\n",
              " 95      Des      32         3         5\n",
              " 96      Des      31         4         5\n",
              " 97      Des       8         5         5\n",
              " 98      Des       8         5         5\n",
              " 99      Des      31         4         5\n",
              " 100     Des      31         4         5\n",
              " 101     Des      22         3         2,\n",
              "     Hostels  Months  D-Rating  T-Rating\n",
              " 102  Malhar      18         2         3\n",
              " 103  Malhar       8         3         4\n",
              " 104  Malhar      16         4         4\n",
              " 105  Malhar      16         4         2\n",
              " 106  Malhar      14         3         3\n",
              " ..      ...     ...       ...       ...\n",
              " 169  Malhar      18         3         3\n",
              " 170  Malhar      18         3         3\n",
              " 171  Malhar      18         5         2\n",
              " 172  Malhar      18         4         4\n",
              " 173  Malhar      18         3         4\n",
              " \n",
              " [72 rows x 4 columns],\n",
              "     Hostels  Months  D-Rating  T-Rating\n",
              " 174  Abheri       6         4         5\n",
              " 175  Abheri       7         3         4\n",
              " 176  Abheri       7         5         4\n",
              " 177  Abheri       7         4         4\n",
              " 178  Abheri       6         4         4\n",
              " ..      ...     ...       ...       ...\n",
              " 258  Abheri       7         5         5\n",
              " 259  Abheri       7         5         5\n",
              " 260  Abheri       7         5         5\n",
              " 261  Abheri       7         4         5\n",
              " 262  Abheri       8         3         3\n",
              " \n",
              " [89 rows x 4 columns],\n",
              "      Hostels  Months  D-Rating  T-Rating\n",
              " 263  Faculty       9         2         2\n",
              " 264  Faculty      30         4         5\n",
              " 265  Faculty      18         4         4\n",
              " 266  Faculty      22         3         3\n",
              " 267  Faculty      24         5         4]"
            ]
          },
          "execution_count": 6,
          "metadata": {},
          "output_type": "execute_result"
        }
      ],
      "source": [
        "hostel_df = []\n",
        "for hostel in hostels:\n",
        "  # Create a new DataFrame for each hostel\n",
        "  hostel_df.append(data[data['Hostels'] == hostel])\n",
        "hostel_df"
      ]
    },
    {
      "cell_type": "code",
      "execution_count": 7,
      "metadata": {
        "colab": {
          "base_uri": "https://localhost:8080/",
          "height": 1000
        },
        "id": "VKJ9w47E1JOH",
        "outputId": "698ea461-d71f-4e1a-87c1-f1e663063a71"
      },
      "outputs": [
        {
          "name": "stdout",
          "output_type": "stream",
          "text": [
            "Saved: static/images\\drinking_water_rating_pie_Kedhar.png\n",
            "Saved: static/images\\drinking_water_rating_pie_Bhairav.png\n",
            "Saved: static/images\\drinking_water_rating_pie_Sahana.png\n",
            "Saved: static/images\\drinking_water_rating_pie_basant.png\n",
            "Saved: static/images\\drinking_water_rating_pie_Des.png\n",
            "Saved: static/images\\drinking_water_rating_pie_Malhar.png\n",
            "Saved: static/images\\drinking_water_rating_pie_Abheri.png\n",
            "Saved: static/images\\drinking_water_rating_pie_Faculty.png\n"
          ]
        }
      ],
      "source": [
        "import matplotlib.pyplot as plt\n",
        "import os\n",
        "\n",
        "# Ensure the directory exists\n",
        "output_dir = \"static/images\"\n",
        "os.makedirs(output_dir, exist_ok=True)\n",
        "\n",
        "for df in hostel_df:\n",
        "    rating_counts = df['D-Rating'].value_counts()\n",
        "\n",
        "    fig, ax = plt.subplots(figsize=(8, 8))\n",
        "    wedges, texts, autotexts = ax.pie(\n",
        "        rating_counts, autopct='%1.1f%%', startangle=90, colors=plt.cm.Paired.colors\n",
        "    )\n",
        "\n",
        "    ax.legend(wedges, rating_counts.index, title=\"D-Rating\", loc=\"center left\", bbox_to_anchor=(1, 0.5))\n",
        "    ax.set_title(f\"Drinking Water-Rating Distribution for {df['Hostels'].iloc[0]}\")\n",
        "    plt.axis('equal')\n",
        "\n",
        "    # Save with a unique filename\n",
        "    filename = f\"drinking_water_rating_pie_{df['Hostels'].iloc[0]}.png\"\n",
        "    filepath = os.path.join(output_dir, filename)\n",
        "    plt.savefig(filepath, bbox_inches=\"tight\", dpi=300)\n",
        "    plt.close()\n",
        "\n",
        "    print(f\"Saved: {filepath}\")  # Debugging\n"
      ]
    },
    {
      "cell_type": "code",
      "execution_count": 8,
      "metadata": {
        "colab": {
          "base_uri": "https://localhost:8080/",
          "height": 1000
        },
        "id": "iPNspG1z1iFw",
        "outputId": "0f97eba9-7a24-4129-ddbb-6d2d00a68a75"
      },
      "outputs": [
        {
          "name": "stdout",
          "output_type": "stream",
          "text": [
            "Saved: static/images\\tap_water_rating_pie_Kedhar.png\n",
            "Saved: static/images\\tap_water_rating_pie_Bhairav.png\n",
            "Saved: static/images\\tap_water_rating_pie_Sahana.png\n",
            "Saved: static/images\\tap_water_rating_pie_basant.png\n",
            "Saved: static/images\\tap_water_rating_pie_Des.png\n",
            "Saved: static/images\\tap_water_rating_pie_Malhar.png\n",
            "Saved: static/images\\tap_water_rating_pie_Abheri.png\n",
            "Saved: static/images\\tap_water_rating_pie_Faculty.png\n"
          ]
        }
      ],
      "source": [
        "import matplotlib.pyplot as plt\n",
        "import os\n",
        "\n",
        "# Ensure the directory exists\n",
        "output_dir = \"static/images\"\n",
        "os.makedirs(output_dir, exist_ok=True)\n",
        "\n",
        "for df in hostel_df:\n",
        "    rating_counts = df['T-Rating'].value_counts()\n",
        "\n",
        "    fig, ax = plt.subplots(figsize=(8, 8))\n",
        "    wedges, texts, autotexts = ax.pie(\n",
        "        rating_counts, autopct='%1.1f%%', startangle=90, colors=plt.cm.Paired.colors\n",
        "    )\n",
        "\n",
        "    ax.legend(wedges, rating_counts.index, title=\"T-Rating\", loc=\"center left\", bbox_to_anchor=(1, 0.5))\n",
        "    ax.set_title(f\"Tap Water-Rating Distribution for {df['Hostels'].iloc[0]}\")\n",
        "    plt.axis('equal')\n",
        "\n",
        "    # Save with a unique filename\n",
        "    filename = f\"tap_water_rating_pie_{df['Hostels'].iloc[0]}.png\"\n",
        "    filepath = os.path.join(output_dir, filename)\n",
        "    plt.savefig(filepath, bbox_inches=\"tight\", dpi=300)\n",
        "    plt.close()\n",
        "\n",
        "    print(f\"Saved: {filepath}\")  # Debugging\n"
      ]
    },
    {
      "cell_type": "code",
      "execution_count": 9,
      "metadata": {
        "colab": {
          "base_uri": "https://localhost:8080/",
          "height": 1000
        },
        "id": "ZfWz0RsN2Zl3",
        "outputId": "6806d0e8-1007-49b5-c174-6726d012e931"
      },
      "outputs": [
        {
          "name": "stdout",
          "output_type": "stream",
          "text": [
            "Saved: static/images\\drinking_water_rating_bar_Kedhar.png\n",
            "Saved: static/images\\drinking_water_rating_bar_Bhairav.png\n",
            "Saved: static/images\\drinking_water_rating_bar_Sahana.png\n",
            "Saved: static/images\\drinking_water_rating_bar_basant.png\n",
            "Saved: static/images\\drinking_water_rating_bar_Des.png\n",
            "Saved: static/images\\drinking_water_rating_bar_Malhar.png\n",
            "Saved: static/images\\drinking_water_rating_bar_Abheri.png\n",
            "Saved: static/images\\drinking_water_rating_bar_Faculty.png\n"
          ]
        }
      ],
      "source": [
        "import pandas as pd\n",
        "import matplotlib.pyplot as plt\n",
        "import os\n",
        "\n",
        "# Ensure the output directory exists\n",
        "output_dir = \"static/images\"\n",
        "os.makedirs(output_dir, exist_ok=True)\n",
        "\n",
        "for i, df in enumerate(hostel_df):\n",
        "    plt.figure(figsize=(10, 6))\n",
        "    plt.bar(df['Months'], df['D-Rating'], color='Black')\n",
        "    plt.xlabel('Months')\n",
        "    plt.ylabel('D-Rating')\n",
        "    plt.title(f'Months vs. Drinking Water Rating for {df[\"Hostels\"].iloc[0]}')\n",
        "    plt.xticks(rotation=45, ha='right')\n",
        "    plt.tight_layout()\n",
        "\n",
        "    # Save the figure\n",
        "    filename = f\"drinking_water_rating_bar_{df['Hostels'].iloc[0]}.png\"\n",
        "    filepath = os.path.join(output_dir, filename)\n",
        "    plt.savefig(filepath, bbox_inches=\"tight\", dpi=300)\n",
        "    plt.close()\n",
        "\n",
        "    print(f\"Saved: {filepath}\")  # Debugging\n"
      ]
    },
    {
      "cell_type": "code",
      "execution_count": 10,
      "metadata": {
        "colab": {
          "base_uri": "https://localhost:8080/",
          "height": 1000
        },
        "id": "6ifqKI-A2pnL",
        "outputId": "37145773-1c56-433b-dc20-c6aca74736ba"
      },
      "outputs": [
        {
          "name": "stdout",
          "output_type": "stream",
          "text": [
            "Saved: static/images\\tap_water_rating_bar_Kedhar.png\n",
            "Saved: static/images\\tap_water_rating_bar_Bhairav.png\n",
            "Saved: static/images\\tap_water_rating_bar_Sahana.png\n",
            "Saved: static/images\\tap_water_rating_bar_basant.png\n",
            "Saved: static/images\\tap_water_rating_bar_Des.png\n",
            "Saved: static/images\\tap_water_rating_bar_Malhar.png\n",
            "Saved: static/images\\tap_water_rating_bar_Abheri.png\n",
            "Saved: static/images\\tap_water_rating_bar_Faculty.png\n"
          ]
        }
      ],
      "source": [
        "import pandas as pd\n",
        "import matplotlib.pyplot as plt\n",
        "import os\n",
        "\n",
        "# Ensure the output directory exists\n",
        "output_dir = \"static/images\"\n",
        "os.makedirs(output_dir, exist_ok=True)\n",
        "\n",
        "for i, df in enumerate(hostel_df):\n",
        "    plt.figure(figsize=(10, 6))\n",
        "    plt.bar(df['Months'], df['T-Rating'], color='aqua')\n",
        "    plt.xlabel('Months')\n",
        "    plt.ylabel('T-Rating')\n",
        "    plt.title(f'Months vs. Tap Water Rating for {df[\"Hostels\"].iloc[0]}')\n",
        "    plt.xticks(rotation=45, ha='right')\n",
        "    plt.tight_layout()\n",
        "\n",
        "    # Save the figure\n",
        "    filename = f\"tap_water_rating_bar_{df['Hostels'].iloc[0]}.png\"\n",
        "    filepath = os.path.join(output_dir, filename)\n",
        "    plt.savefig(filepath, bbox_inches=\"tight\", dpi=300)\n",
        "    plt.close()\n",
        "\n",
        "    print(f\"Saved: {filepath}\")  # Debugging\n"
      ]
    },
    {
      "cell_type": "code",
      "execution_count": null,
      "metadata": {},
      "outputs": [],
      "source": []
    },
    {
      "cell_type": "code",
      "execution_count": null,
      "metadata": {},
      "outputs": [],
      "source": []
    }
  ],
  "metadata": {
    "colab": {
      "provenance": []
    },
    "kernelspec": {
      "display_name": "Python 3",
      "name": "python3"
    },
    "language_info": {
      "codemirror_mode": {
        "name": "ipython",
        "version": 3
      },
      "file_extension": ".py",
      "mimetype": "text/x-python",
      "name": "python",
      "nbconvert_exporter": "python",
      "pygments_lexer": "ipython3",
      "version": "3.12.6"
    }
  },
  "nbformat": 4,
  "nbformat_minor": 0
}
